{
 "cells": [
  {
   "cell_type": "markdown",
   "id": "ee12fe49",
   "metadata": {},
   "source": [
    "# Dictionaries"
   ]
  },
  {
   "cell_type": "code",
   "execution_count": null,
   "id": "95891810",
   "metadata": {},
   "outputs": [],
   "source": [
    "Dictionaries are used to store data values in key:value pairs\n",
    "Dictionaries are written with curly brackets, and have keys and values"
   ]
  },
  {
   "cell_type": "code",
   "execution_count": 4,
   "id": "f1ab7b3e",
   "metadata": {},
   "outputs": [
    {
     "name": "stdout",
     "output_type": "stream",
     "text": [
      "{'name': 'Nithya', 'class': '3rd btech', 'year': 2022}\n"
     ]
    }
   ],
   "source": [
    "about = {\n",
    "  \"name\": \"Nithya\",\n",
    "  \"class\": \"3rd btech\",\n",
    "  \"year\": 2022\n",
    "}\n",
    "print(about)"
   ]
  },
  {
   "cell_type": "code",
   "execution_count": 6,
   "id": "17328fd3",
   "metadata": {},
   "outputs": [
    {
     "name": "stdout",
     "output_type": "stream",
     "text": [
      "2022\n"
     ]
    }
   ],
   "source": [
    "print(about[\"year\"])"
   ]
  },
  {
   "cell_type": "code",
   "execution_count": 7,
   "id": "3d564543",
   "metadata": {},
   "outputs": [
    {
     "name": "stdout",
     "output_type": "stream",
     "text": [
      "3\n"
     ]
    }
   ],
   "source": [
    "#finding the length of a string suing len()\n",
    "print(len(about))"
   ]
  },
  {
   "cell_type": "code",
   "execution_count": null,
   "id": "5ea1c3af",
   "metadata": {},
   "outputs": [],
   "source": [
    "#we can know the type of datatypes used by using type() function"
   ]
  },
  {
   "cell_type": "code",
   "execution_count": 8,
   "id": "b4257e24",
   "metadata": {},
   "outputs": [
    {
     "name": "stdout",
     "output_type": "stream",
     "text": [
      "<class 'dict'>\n"
     ]
    }
   ],
   "source": [
    "print(type(about))"
   ]
  },
  {
   "cell_type": "code",
   "execution_count": null,
   "id": "e329fa4b",
   "metadata": {},
   "outputs": [],
   "source": [
    "#Dictionaries will not contain duplicate key values\n",
    "#if there is any keyvalue also it will return the last value what we have added into the dictonary"
   ]
  },
  {
   "cell_type": "code",
   "execution_count": 11,
   "id": "0537dc3c",
   "metadata": {},
   "outputs": [
    {
     "name": "stdout",
     "output_type": "stream",
     "text": [
      "{'name': 'Nithya', 'class': '3rd btech', 'year': 2021}\n"
     ]
    }
   ],
   "source": [
    "about = {\n",
    "  \"name\": \"Nithya\",\n",
    "  \"class\": \"3rd btech\",\n",
    "  \"year\": 2022,\n",
    "  \"year\":2021\n",
    "}\n",
    "print(about)"
   ]
  },
  {
   "cell_type": "code",
   "execution_count": 17,
   "id": "996d03b7",
   "metadata": {},
   "outputs": [
    {
     "name": "stdout",
     "output_type": "stream",
     "text": [
      "This is one\n"
     ]
    }
   ],
   "source": [
    "dict = {}\n",
    "dict['one'] = \"This is one\"\n",
    "dict[2] = \"This is two\"\n",
    "tinydict = {'name': 'john','code':6734, 'dept': 'sales'}\n",
    "# Prints value for 'one' key\n",
    "print (dict['one']) "
   ]
  },
  {
   "cell_type": "code",
   "execution_count": 13,
   "id": "4b5a8950",
   "metadata": {},
   "outputs": [
    {
     "name": "stdout",
     "output_type": "stream",
     "text": [
      "dict_values(['john', 6734, 'sales'])\n"
     ]
    }
   ],
   "source": [
    "# Prints all the values\n",
    "print (tinydict.values())"
   ]
  },
  {
   "cell_type": "code",
   "execution_count": 14,
   "id": "08619000",
   "metadata": {},
   "outputs": [
    {
     "name": "stdout",
     "output_type": "stream",
     "text": [
      "dict_keys(['name', 'code', 'dept'])\n"
     ]
    }
   ],
   "source": [
    "# Prints all the keys\n",
    "print (tinydict.keys()) "
   ]
  },
  {
   "cell_type": "code",
   "execution_count": 15,
   "id": "77cf071b",
   "metadata": {},
   "outputs": [
    {
     "name": "stdout",
     "output_type": "stream",
     "text": [
      "{'name': 'john', 'code': 6734, 'dept': 'sales'}\n"
     ]
    }
   ],
   "source": [
    "# Prints complete dictionary\n",
    "print (tinydict)"
   ]
  },
  {
   "cell_type": "code",
   "execution_count": 23,
   "id": "31a4bd5f",
   "metadata": {},
   "outputs": [
    {
     "name": "stdout",
     "output_type": "stream",
     "text": [
      "dict_keys(['name', 'class', 'year'])\n"
     ]
    }
   ],
   "source": [
    "x = about.keys()\n",
    "print(x)"
   ]
  },
  {
   "cell_type": "markdown",
   "id": "e5d6075b",
   "metadata": {},
   "source": [
    "# Dictionary methods"
   ]
  },
  {
   "cell_type": "code",
   "execution_count": null,
   "id": "de66472e",
   "metadata": {},
   "outputs": [],
   "source": [
    "**clear()--Removes all the elements from the dictionary\n",
    "**get()--Returns the value of the specified key\n",
    "**pop()--Removes the element with the specified key\n",
    "**popitem()--Removes the last inserted key-value pair\n",
    "**update()--Updates the dictionary with the specified key-value pairs\n",
    "and the remaining are followed"
   ]
  },
  {
   "cell_type": "markdown",
   "id": "a1d70f55",
   "metadata": {},
   "source": [
    "# Accesing items"
   ]
  },
  {
   "cell_type": "code",
   "execution_count": 32,
   "id": "35192851",
   "metadata": {},
   "outputs": [
    {
     "name": "stdout",
     "output_type": "stream",
     "text": [
      "{'name': 'Nithya', 'class': '3rd btech', 'year': 2022}\n",
      "3rd btech\n"
     ]
    }
   ],
   "source": [
    "#one method\n",
    "about = {\n",
    "  \"name\": \"Nithya\",\n",
    "  \"class\": \"3rd btech\",\n",
    "  \"year\": 2022\n",
    "}\n",
    "print(about)\n",
    "x=about[\"class\"]\n",
    "print(x)"
   ]
  },
  {
   "cell_type": "code",
   "execution_count": 33,
   "id": "a5c09a23",
   "metadata": {},
   "outputs": [],
   "source": [
    "x = about.get(\"year\")"
   ]
  },
  {
   "cell_type": "code",
   "execution_count": 34,
   "id": "85f31c0e",
   "metadata": {},
   "outputs": [
    {
     "name": "stdout",
     "output_type": "stream",
     "text": [
      "2022\n"
     ]
    }
   ],
   "source": [
    "print(x)"
   ]
  },
  {
   "cell_type": "markdown",
   "id": "f8bdc3e2",
   "metadata": {},
   "source": [
    "# changing values and updating"
   ]
  },
  {
   "cell_type": "code",
   "execution_count": 24,
   "id": "36b51d63",
   "metadata": {},
   "outputs": [
    {
     "name": "stdout",
     "output_type": "stream",
     "text": [
      "{'name': 'Nithya', 'class': '3rd btech', 'year': 2022}\n"
     ]
    }
   ],
   "source": [
    "about = {\n",
    "  \"name\": \"Nithya\",\n",
    "  \"class\": \"3rd btech\",\n",
    "  \"year\": 2022\n",
    "}\n",
    "print(about)"
   ]
  },
  {
   "cell_type": "code",
   "execution_count": 28,
   "id": "4299d3a8",
   "metadata": {},
   "outputs": [
    {
     "name": "stdout",
     "output_type": "stream",
     "text": [
      "{'name': 'Nithya', 'class': '3rd btech', 'year': 2018}\n"
     ]
    }
   ],
   "source": [
    "#one method\n",
    "about[\"year\"] = 2018\n",
    "print(about)"
   ]
  },
  {
   "cell_type": "code",
   "execution_count": null,
   "id": "6e5ab6c9",
   "metadata": {},
   "outputs": [],
   "source": [
    "#using update function we will update the dictionary"
   ]
  },
  {
   "cell_type": "code",
   "execution_count": 27,
   "id": "edd3b758",
   "metadata": {},
   "outputs": [
    {
     "name": "stdout",
     "output_type": "stream",
     "text": [
      "{'name': 'Nithya', 'class': '3rd btech', 'year': 2020}\n"
     ]
    }
   ],
   "source": [
    "#two methods\n",
    "about = {\n",
    "  \"name\": \"Nithya\",\n",
    "  \"class\": \"3rd btech\",\n",
    "  \"year\": 2022\n",
    "}\n",
    "about.update({\"year\": 2020})\n",
    "print(about)"
   ]
  },
  {
   "cell_type": "markdown",
   "id": "a2369202",
   "metadata": {},
   "source": [
    "# Adding into dictionary"
   ]
  },
  {
   "cell_type": "code",
   "execution_count": 29,
   "id": "c7ead830",
   "metadata": {},
   "outputs": [
    {
     "name": "stdout",
     "output_type": "stream",
     "text": [
      "{'name': 'Nithya', 'class': '3rd btech', 'year': 2022, 'branch': 'ai&ds'}\n"
     ]
    }
   ],
   "source": [
    "about = {\n",
    "  \"name\": \"Nithya\",\n",
    "  \"class\": \"3rd btech\",\n",
    "  \"year\": 2022\n",
    "}\n",
    "about[\"branch\"] = \"ai&ds\"\n",
    "print(about)"
   ]
  },
  {
   "cell_type": "markdown",
   "id": "adc495dd",
   "metadata": {},
   "source": [
    "# Removing items "
   ]
  },
  {
   "cell_type": "code",
   "execution_count": null,
   "id": "83bc2025",
   "metadata": {},
   "outputs": [],
   "source": [
    "#pop() method removes the item with the specified key name"
   ]
  },
  {
   "cell_type": "code",
   "execution_count": 31,
   "id": "e9e499aa",
   "metadata": {},
   "outputs": [
    {
     "name": "stdout",
     "output_type": "stream",
     "text": [
      "{'name': 'Nithya', 'class': '3rd btech', 'branch': 'aids'}\n"
     ]
    }
   ],
   "source": [
    "about = {\n",
    "  \"name\": \"Nithya\",\n",
    "  \"class\": \"3rd btech\",\n",
    "  \"year\": 2022,\n",
    "  \"branch\":\"aids\"\n",
    "}\n",
    "about.pop(\"year\")\n",
    "print(about)"
   ]
  },
  {
   "cell_type": "code",
   "execution_count": 35,
   "id": "e75fcde9",
   "metadata": {},
   "outputs": [
    {
     "name": "stdout",
     "output_type": "stream",
     "text": [
      "{'name': 'Nithya', 'class': '3rd btech'}\n"
     ]
    }
   ],
   "source": [
    "about.popitem()\n",
    "print(about)"
   ]
  },
  {
   "cell_type": "code",
   "execution_count": 36,
   "id": "f7c386a8",
   "metadata": {},
   "outputs": [
    {
     "name": "stdout",
     "output_type": "stream",
     "text": [
      "{}\n"
     ]
    }
   ],
   "source": [
    "about.clear()\n",
    "print(about)"
   ]
  },
  {
   "cell_type": "markdown",
   "id": "ba990fee",
   "metadata": {},
   "source": [
    "# Tuples"
   ]
  },
  {
   "cell_type": "code",
   "execution_count": null,
   "id": "3f053d15",
   "metadata": {
    "collapsed": true
   },
   "outputs": [],
   "source": [
    "Tuples are used to store multiple items in a single variable\n",
    "Tuples are ordered"
   ]
  },
  {
   "cell_type": "code",
   "execution_count": 37,
   "id": "6ff30cc2",
   "metadata": {},
   "outputs": [
    {
     "name": "stdout",
     "output_type": "stream",
     "text": [
      "('apple', 'banana', 'cherry')\n"
     ]
    }
   ],
   "source": [
    "fruits=(\"apple\", \"banana\", \"cherry\")\n",
    "print(fruits)"
   ]
  },
  {
   "cell_type": "code",
   "execution_count": 38,
   "id": "913cf577",
   "metadata": {},
   "outputs": [
    {
     "name": "stdout",
     "output_type": "stream",
     "text": [
      "('apple', 'banana', 'cherry', 'apple', 'cherry')\n"
     ]
    }
   ],
   "source": [
    "#tuples are indexed, they can have items with the same value\n",
    "fruits = (\"apple\", \"banana\", \"cherry\", \"apple\", \"cherry\")\n",
    "print(fruits)"
   ]
  },
  {
   "cell_type": "code",
   "execution_count": null,
   "id": "05d81ac6",
   "metadata": {},
   "outputs": [],
   "source": [
    "#length can be found by using len() function"
   ]
  },
  {
   "cell_type": "code",
   "execution_count": 39,
   "id": "c08bf1c0",
   "metadata": {},
   "outputs": [
    {
     "name": "stdout",
     "output_type": "stream",
     "text": [
      "5\n"
     ]
    }
   ],
   "source": [
    "print(len(fruits))"
   ]
  },
  {
   "cell_type": "code",
   "execution_count": 40,
   "id": "6865ec21",
   "metadata": {},
   "outputs": [
    {
     "name": "stdout",
     "output_type": "stream",
     "text": [
      "<class 'tuple'>\n"
     ]
    }
   ],
   "source": [
    "#datatype of a tupe\n",
    "print(type(fruits))"
   ]
  },
  {
   "cell_type": "code",
   "execution_count": null,
   "id": "a1fbe369",
   "metadata": {},
   "outputs": [],
   "source": [
    "#as tuples donot cantain a single value so it returns a string"
   ]
  },
  {
   "cell_type": "code",
   "execution_count": 43,
   "id": "03734e5f",
   "metadata": {},
   "outputs": [
    {
     "name": "stdout",
     "output_type": "stream",
     "text": [
      "<class 'str'>\n"
     ]
    }
   ],
   "source": [
    "fruits = (\"apple\")\n",
    "print(type(fruits))"
   ]
  },
  {
   "cell_type": "code",
   "execution_count": null,
   "id": "552e48ce",
   "metadata": {},
   "outputs": [],
   "source": [
    "#here the variable is continued with comma so it takes it as an tuple"
   ]
  },
  {
   "cell_type": "code",
   "execution_count": 42,
   "id": "81553796",
   "metadata": {},
   "outputs": [
    {
     "name": "stdout",
     "output_type": "stream",
     "text": [
      "<class 'tuple'>\n"
     ]
    }
   ],
   "source": [
    "fruits= (\"apple\",)\n",
    "print(type(fruits))"
   ]
  },
  {
   "cell_type": "markdown",
   "id": "f13682ed",
   "metadata": {},
   "source": [
    "# Tuple methods"
   ]
  },
  {
   "cell_type": "code",
   "execution_count": null,
   "id": "b69cdf92",
   "metadata": {},
   "outputs": [],
   "source": [
    "**count()--Returns the number of times a specified value occurs in a tuple\n",
    "**index()--Searches the tuple for a specified value and returns the position of where it was found\n",
    "**remove()--removes the values what are not required from tuple\n",
    "**append()--adding ites into tuple\n",
    "**delete()--uesd to delete the values\n",
    "**clear()--clears the tuple"
   ]
  },
  {
   "cell_type": "markdown",
   "id": "f2e9cc2e",
   "metadata": {},
   "source": [
    "# Accesing the tuples"
   ]
  },
  {
   "cell_type": "code",
   "execution_count": 45,
   "id": "575c8181",
   "metadata": {},
   "outputs": [
    {
     "name": "stdout",
     "output_type": "stream",
     "text": [
      "banana\n"
     ]
    }
   ],
   "source": [
    "fruits=(\"apple\", \"banana\", \"cherry\")\n",
    "print(fruits[1])"
   ]
  },
  {
   "cell_type": "code",
   "execution_count": 46,
   "id": "f598d14c",
   "metadata": {},
   "outputs": [
    {
     "name": "stdout",
     "output_type": "stream",
     "text": [
      "cherry\n"
     ]
    }
   ],
   "source": [
    "#returns the last item\n",
    "print(fruits[-1])"
   ]
  },
  {
   "cell_type": "code",
   "execution_count": 49,
   "id": "f32736c0",
   "metadata": {},
   "outputs": [
    {
     "name": "stdout",
     "output_type": "stream",
     "text": [
      "('cherry',)\n"
     ]
    }
   ],
   "source": [
    "#range of indexes by specifying where to start and where to end the range.\n",
    "print(fruits[2:5])"
   ]
  },
  {
   "cell_type": "code",
   "execution_count": 52,
   "id": "68735c38",
   "metadata": {},
   "outputs": [
    {
     "name": "stdout",
     "output_type": "stream",
     "text": [
      "('apple', 'banana')\n"
     ]
    }
   ],
   "source": [
    "# By leaving out the start value, the range will start at the first item\n",
    "print(fruits[:2])"
   ]
  },
  {
   "cell_type": "code",
   "execution_count": 53,
   "id": "c3eebdad",
   "metadata": {},
   "outputs": [
    {
     "name": "stdout",
     "output_type": "stream",
     "text": [
      "('apple', 'banana', 'cherry')\n"
     ]
    }
   ],
   "source": [
    "#By leaving out the end value, the range will go on to the end of the list\n",
    "print(fruits[:4])"
   ]
  },
  {
   "cell_type": "markdown",
   "id": "7ffb8bcc",
   "metadata": {},
   "source": [
    "# updating tuple"
   ]
  },
  {
   "cell_type": "code",
   "execution_count": 55,
   "id": "0bc48599",
   "metadata": {},
   "outputs": [
    {
     "name": "stdout",
     "output_type": "stream",
     "text": [
      "('apple', 'kiwi', 'cherry')\n"
     ]
    }
   ],
   "source": [
    "fruit = (\"apple\", \"banana\", \"cherry\")\n",
    "fruits = list(fruit)\n",
    "fruits[1] = \"kiwi\"\n",
    "fruit = tuple(fruits)\n",
    "print(fruit)"
   ]
  },
  {
   "cell_type": "markdown",
   "id": "1c070877",
   "metadata": {},
   "source": [
    "# Adding items into tuple"
   ]
  },
  {
   "cell_type": "code",
   "execution_count": 59,
   "id": "906eadf5",
   "metadata": {},
   "outputs": [],
   "source": [
    "#using append method we can we can add elements into tuple"
   ]
  },
  {
   "cell_type": "markdown",
   "id": "47303499",
   "metadata": {},
   "source": [
    "# Adding using List"
   ]
  },
  {
   "cell_type": "code",
   "execution_count": 63,
   "id": "7caafc1a",
   "metadata": {},
   "outputs": [
    {
     "name": "stdout",
     "output_type": "stream",
     "text": [
      "['apple', 'banana', 'cherry']\n"
     ]
    }
   ],
   "source": [
    "fruit = (\"apple\", \"banana\", \"cherry\")\n",
    "fruits = list(fruit)\n",
    "print(fruits)\n",
    "fruits.append(\"orange\")"
   ]
  },
  {
   "cell_type": "code",
   "execution_count": 62,
   "id": "1da1cd53",
   "metadata": {},
   "outputs": [
    {
     "name": "stdout",
     "output_type": "stream",
     "text": [
      "('apple', 'banana', 'cherry', 'orange')\n"
     ]
    }
   ],
   "source": [
    "Fruit = tuple(fruits)\n",
    "print(Fruit)"
   ]
  },
  {
   "cell_type": "markdown",
   "id": "64a7066b",
   "metadata": {},
   "source": [
    "# Adding tuple to tuple"
   ]
  },
  {
   "cell_type": "code",
   "execution_count": 65,
   "id": "f1084dc6",
   "metadata": {},
   "outputs": [
    {
     "name": "stdout",
     "output_type": "stream",
     "text": [
      "('orange',)\n"
     ]
    }
   ],
   "source": [
    "fruit = (\"apple\", \"banana\", \"cherry\")\n",
    "fruits = (\"orange\",)\n",
    "fruit += fruits\n",
    "print(fruits)"
   ]
  },
  {
   "cell_type": "code",
   "execution_count": 67,
   "id": "c67d758c",
   "metadata": {},
   "outputs": [
    {
     "name": "stdout",
     "output_type": "stream",
     "text": [
      "('apple', 'banana', 'cherry', 'orange')\n"
     ]
    }
   ],
   "source": [
    "print(fruit)"
   ]
  },
  {
   "cell_type": "markdown",
   "id": "c8519a33",
   "metadata": {},
   "source": [
    "# Removing items from tuple"
   ]
  },
  {
   "cell_type": "code",
   "execution_count": null,
   "id": "62acb2d8",
   "metadata": {},
   "outputs": [],
   "source": [
    "#using remove function we can remove "
   ]
  },
  {
   "cell_type": "code",
   "execution_count": 68,
   "id": "51d8c32b",
   "metadata": {},
   "outputs": [
    {
     "name": "stdout",
     "output_type": "stream",
     "text": [
      "('apple', 'banana', 'cherry')\n"
     ]
    }
   ],
   "source": [
    "fruit = (\"apple\", \"banana\", \"cherry\")\n",
    "fruits = list(thistuple)\n",
    "print(fruit)"
   ]
  },
  {
   "cell_type": "code",
   "execution_count": 69,
   "id": "4d285131",
   "metadata": {},
   "outputs": [
    {
     "name": "stdout",
     "output_type": "stream",
     "text": [
      "('banana', 'cherry', 'orange')\n"
     ]
    }
   ],
   "source": [
    "fruits.remove(\"apple\")\n",
    "fruit = tuple(fruits)\n",
    "print(fruit)"
   ]
  }
 ],
 "metadata": {
  "kernelspec": {
   "display_name": "Python 3 (ipykernel)",
   "language": "python",
   "name": "python3"
  },
  "language_info": {
   "codemirror_mode": {
    "name": "ipython",
    "version": 3
   },
   "file_extension": ".py",
   "mimetype": "text/x-python",
   "name": "python",
   "nbconvert_exporter": "python",
   "pygments_lexer": "ipython3",
   "version": "3.9.7"
  }
 },
 "nbformat": 4,
 "nbformat_minor": 5
}
