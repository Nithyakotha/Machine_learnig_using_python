{
 "cells": [
  {
   "cell_type": "markdown",
   "id": "89866611",
   "metadata": {},
   "source": [
    "# Lists"
   ]
  },
  {
   "cell_type": "code",
   "execution_count": null,
   "id": "f59946d5",
   "metadata": {},
   "outputs": [],
   "source": [
    "Lists are used to store multiple items in a single variable\n",
    "Lists are created using square brackets"
   ]
  },
  {
   "cell_type": "code",
   "execution_count": 1,
   "id": "760f1dbf",
   "metadata": {},
   "outputs": [],
   "source": [
    "fruit = [\"apple\", \"banana\", \"cherry\"]"
   ]
  },
  {
   "cell_type": "code",
   "execution_count": 2,
   "id": "95db2eec",
   "metadata": {},
   "outputs": [
    {
     "name": "stdout",
     "output_type": "stream",
     "text": [
      "['apple', 'banana', 'cherry']\n"
     ]
    }
   ],
   "source": [
    "print(fruit)"
   ]
  },
  {
   "cell_type": "code",
   "execution_count": null,
   "id": "e7ef7212",
   "metadata": {},
   "outputs": [],
   "source": [
    " lists are indexed, lists can have items with the same value"
   ]
  },
  {
   "cell_type": "code",
   "execution_count": 3,
   "id": "64624994",
   "metadata": {},
   "outputs": [],
   "source": [
    "fruits = [\"apple\", \"banana\", \"cherry\", \"apple\", \"cherry\"]"
   ]
  },
  {
   "cell_type": "code",
   "execution_count": 4,
   "id": "5b671f19",
   "metadata": {},
   "outputs": [
    {
     "name": "stdout",
     "output_type": "stream",
     "text": [
      "['apple', 'banana', 'cherry', 'apple', 'cherry']\n"
     ]
    }
   ],
   "source": [
    "print(fruits)"
   ]
  },
  {
   "cell_type": "code",
   "execution_count": null,
   "id": "688ca45a",
   "metadata": {},
   "outputs": [],
   "source": [
    "#we can find the length of the list using len () function"
   ]
  },
  {
   "cell_type": "code",
   "execution_count": 5,
   "id": "aa13a0f0",
   "metadata": {},
   "outputs": [
    {
     "name": "stdout",
     "output_type": "stream",
     "text": [
      "5\n"
     ]
    }
   ],
   "source": [
    "print(len(fruits))"
   ]
  },
  {
   "cell_type": "code",
   "execution_count": null,
   "id": "d830db26",
   "metadata": {},
   "outputs": [],
   "source": [
    "#datatype used in list"
   ]
  },
  {
   "cell_type": "code",
   "execution_count": 6,
   "id": "92755057",
   "metadata": {},
   "outputs": [
    {
     "name": "stdout",
     "output_type": "stream",
     "text": [
      "<class 'list'>\n"
     ]
    }
   ],
   "source": [
    "print(type(fruit))"
   ]
  },
  {
   "cell_type": "markdown",
   "id": "4219a8e5",
   "metadata": {},
   "source": [
    "# List methods"
   ]
  },
  {
   "cell_type": "code",
   "execution_count": null,
   "id": "42ad24b6",
   "metadata": {},
   "outputs": [],
   "source": [
    "**append()--Adds an element at the end of the list\n",
    "**clear()--Removes all the elements from the list\n",
    "**count()--Returns the number of elements with the specified value\n",
    "**index()--Returns the index of the first element with the specified value\n",
    "**pop()--Removes the element at the specified position\n",
    "**insert()--Adds an element at the specified position\n",
    "**remove()--Removes the item with the specified value\n",
    "**Reverse()--Reverses the order of the list"
   ]
  },
  {
   "cell_type": "markdown",
   "id": "f76b6b44",
   "metadata": {},
   "source": [
    "# Accesing list elements"
   ]
  },
  {
   "cell_type": "code",
   "execution_count": 7,
   "id": "47fb85e1",
   "metadata": {},
   "outputs": [],
   "source": [
    "fruits = [\"apple\", \"banana\", \"cherry\", \"apple\", \"cherry\"]"
   ]
  },
  {
   "cell_type": "code",
   "execution_count": 8,
   "id": "12200f38",
   "metadata": {},
   "outputs": [
    {
     "name": "stdout",
     "output_type": "stream",
     "text": [
      "['apple', 'banana', 'cherry', 'apple', 'cherry']\n"
     ]
    }
   ],
   "source": [
    "print(fruits)"
   ]
  },
  {
   "cell_type": "code",
   "execution_count": 10,
   "id": "ff72bdce",
   "metadata": {},
   "outputs": [
    {
     "name": "stdout",
     "output_type": "stream",
     "text": [
      "cherry\n"
     ]
    }
   ],
   "source": [
    "print(fruits[2])"
   ]
  },
  {
   "cell_type": "code",
   "execution_count": 12,
   "id": "4879dcd2",
   "metadata": {},
   "outputs": [
    {
     "name": "stdout",
     "output_type": "stream",
     "text": [
      "cherry\n"
     ]
    }
   ],
   "source": [
    "print(fruits[-1])"
   ]
  },
  {
   "cell_type": "code",
   "execution_count": 13,
   "id": "c9f2e9a7",
   "metadata": {},
   "outputs": [
    {
     "name": "stdout",
     "output_type": "stream",
     "text": [
      "['apple', 'cherry']\n"
     ]
    }
   ],
   "source": [
    "print(fruits[3:6])"
   ]
  },
  {
   "cell_type": "code",
   "execution_count": 14,
   "id": "4a42abcc",
   "metadata": {},
   "outputs": [
    {
     "name": "stdout",
     "output_type": "stream",
     "text": [
      "['apple', 'banana', 'cherry']\n"
     ]
    }
   ],
   "source": [
    "print(fruits[:3])"
   ]
  },
  {
   "cell_type": "code",
   "execution_count": 15,
   "id": "ef3637f5",
   "metadata": {},
   "outputs": [
    {
     "name": "stdout",
     "output_type": "stream",
     "text": [
      "['apple', 'cherry']\n"
     ]
    }
   ],
   "source": [
    "print(fruits[3:])"
   ]
  },
  {
   "cell_type": "code",
   "execution_count": 16,
   "id": "b44e72a9",
   "metadata": {},
   "outputs": [
    {
     "name": "stdout",
     "output_type": "stream",
     "text": [
      "[]\n"
     ]
    }
   ],
   "source": [
    "print(fruits[-4:1])"
   ]
  },
  {
   "cell_type": "markdown",
   "id": "521e0e19",
   "metadata": {},
   "source": [
    "# Adding into list"
   ]
  },
  {
   "cell_type": "code",
   "execution_count": 17,
   "id": "d856c8b7",
   "metadata": {},
   "outputs": [
    {
     "name": "stdout",
     "output_type": "stream",
     "text": [
      "['apple', 'banana', 'cherry']\n"
     ]
    }
   ],
   "source": [
    "fruit = [\"apple\", \"banana\", \"cherry\"]\n",
    "print(fruit)"
   ]
  },
  {
   "cell_type": "code",
   "execution_count": 18,
   "id": "f23f3da4",
   "metadata": {},
   "outputs": [
    {
     "name": "stdout",
     "output_type": "stream",
     "text": [
      "['apple', 'banana', 'cherry', 'orange']\n"
     ]
    }
   ],
   "source": [
    "fruit.append(\"orange\")\n",
    "print(fruit)"
   ]
  },
  {
   "cell_type": "code",
   "execution_count": 28,
   "id": "cda0ba39",
   "metadata": {},
   "outputs": [
    {
     "name": "stdout",
     "output_type": "stream",
     "text": [
      "['apple', 'banana', 'guava', 'cherry']\n"
     ]
    }
   ],
   "source": [
    "fruit = [\"apple\", \"banana\", \"cherry\"]\n",
    "fruit.insert(2,\"guava\")\n",
    "print(fruit)"
   ]
  },
  {
   "cell_type": "markdown",
   "id": "8b2ae86c",
   "metadata": {},
   "source": [
    "# Changing the items in list"
   ]
  },
  {
   "cell_type": "code",
   "execution_count": 29,
   "id": "4b9aea5d",
   "metadata": {},
   "outputs": [],
   "source": [
    "fruit = [\"apple\", \"banana\", \"cherry\"]"
   ]
  },
  {
   "cell_type": "code",
   "execution_count": 30,
   "id": "67446f4f",
   "metadata": {},
   "outputs": [],
   "source": [
    "fruit[1] = \"grapes\""
   ]
  },
  {
   "cell_type": "code",
   "execution_count": 31,
   "id": "1d7fbc63",
   "metadata": {},
   "outputs": [
    {
     "name": "stdout",
     "output_type": "stream",
     "text": [
      "['apple', 'grapes', 'cherry']\n"
     ]
    }
   ],
   "source": [
    "print(fruit)"
   ]
  },
  {
   "cell_type": "code",
   "execution_count": 32,
   "id": "129eee96",
   "metadata": {},
   "outputs": [],
   "source": [
    "fruit[1:3] = [\"papaya\", \"watermelon\"]"
   ]
  },
  {
   "cell_type": "code",
   "execution_count": 33,
   "id": "c5de6fe8",
   "metadata": {},
   "outputs": [
    {
     "name": "stdout",
     "output_type": "stream",
     "text": [
      "['apple', 'papaya', 'watermelon']\n"
     ]
    }
   ],
   "source": [
    "print(fruit)"
   ]
  },
  {
   "cell_type": "markdown",
   "id": "ba42d2c4",
   "metadata": {},
   "source": [
    "# Removing list items"
   ]
  },
  {
   "cell_type": "code",
   "execution_count": 34,
   "id": "37b50276",
   "metadata": {},
   "outputs": [],
   "source": [
    "fruit = [\"apple\", \"banana\", \"cherry\"]"
   ]
  },
  {
   "cell_type": "code",
   "execution_count": 35,
   "id": "bf430ac4",
   "metadata": {},
   "outputs": [],
   "source": [
    "fruit.remove(\"banana\")"
   ]
  },
  {
   "cell_type": "code",
   "execution_count": 36,
   "id": "7da53124",
   "metadata": {},
   "outputs": [
    {
     "name": "stdout",
     "output_type": "stream",
     "text": [
      "['apple', 'cherry']\n"
     ]
    }
   ],
   "source": [
    "print(fruit)"
   ]
  },
  {
   "cell_type": "code",
   "execution_count": 39,
   "id": "cdf3b953",
   "metadata": {},
   "outputs": [],
   "source": [
    "fruit = [\"apple\", \"banana\", \"cherry\"]"
   ]
  },
  {
   "cell_type": "code",
   "execution_count": 40,
   "id": "8073a7f7",
   "metadata": {},
   "outputs": [
    {
     "data": {
      "text/plain": [
       "'cherry'"
      ]
     },
     "execution_count": 40,
     "metadata": {},
     "output_type": "execute_result"
    }
   ],
   "source": [
    "fruit.pop(2)"
   ]
  },
  {
   "cell_type": "code",
   "execution_count": 41,
   "id": "a41ba4dd",
   "metadata": {},
   "outputs": [],
   "source": [
    "fruit.clear()"
   ]
  },
  {
   "cell_type": "code",
   "execution_count": 42,
   "id": "8ff5bff0",
   "metadata": {},
   "outputs": [
    {
     "name": "stdout",
     "output_type": "stream",
     "text": [
      "[]\n"
     ]
    }
   ],
   "source": [
    "print(fruit)"
   ]
  },
  {
   "cell_type": "markdown",
   "id": "38877a7c",
   "metadata": {},
   "source": [
    "# Sets"
   ]
  },
  {
   "cell_type": "code",
   "execution_count": null,
   "id": "48e5eeed",
   "metadata": {},
   "outputs": [],
   "source": [
    "Sets are used to store multiple items in a single variable\n",
    "Set items are unordered, unchangeable, and do not allow duplicate values\n",
    "REpresented in curley braces"
   ]
  },
  {
   "cell_type": "code",
   "execution_count": 43,
   "id": "bc040877",
   "metadata": {},
   "outputs": [],
   "source": [
    "fruit = {\"apple\", \"banana\", \"cherry\"}"
   ]
  },
  {
   "cell_type": "code",
   "execution_count": 44,
   "id": "3c69f8b3",
   "metadata": {},
   "outputs": [
    {
     "name": "stdout",
     "output_type": "stream",
     "text": [
      "{'cherry', 'banana', 'apple'}\n"
     ]
    }
   ],
   "source": [
    "print(fruit)"
   ]
  },
  {
   "cell_type": "code",
   "execution_count": null,
   "id": "f9fc7c4e",
   "metadata": {},
   "outputs": [],
   "source": [
    "#duplicates are not allowed "
   ]
  },
  {
   "cell_type": "code",
   "execution_count": 45,
   "id": "aa28ba19",
   "metadata": {},
   "outputs": [
    {
     "name": "stdout",
     "output_type": "stream",
     "text": [
      "{'cherry', 'banana', 'apple'}\n"
     ]
    }
   ],
   "source": [
    "fruit = {\"apple\", \"banana\", \"cherry\", \"apple\"}\n",
    "print(fruit)"
   ]
  },
  {
   "cell_type": "code",
   "execution_count": null,
   "id": "d764b610",
   "metadata": {},
   "outputs": [],
   "source": [
    "#length of the string using len() function"
   ]
  },
  {
   "cell_type": "code",
   "execution_count": 46,
   "id": "f0a7ec0f",
   "metadata": {},
   "outputs": [
    {
     "name": "stdout",
     "output_type": "stream",
     "text": [
      "3\n"
     ]
    }
   ],
   "source": [
    "print(len(fruit))"
   ]
  },
  {
   "cell_type": "code",
   "execution_count": null,
   "id": "351dcd8d",
   "metadata": {},
   "outputs": [],
   "source": [
    "#datatype of set"
   ]
  },
  {
   "cell_type": "code",
   "execution_count": 47,
   "id": "3ee94d83",
   "metadata": {},
   "outputs": [
    {
     "name": "stdout",
     "output_type": "stream",
     "text": [
      "<class 'set'>\n"
     ]
    }
   ],
   "source": [
    "print(type(fruit))"
   ]
  },
  {
   "cell_type": "markdown",
   "id": "5fd9adae",
   "metadata": {},
   "source": [
    "# Set methods"
   ]
  },
  {
   "cell_type": "code",
   "execution_count": null,
   "id": "e459bdb7",
   "metadata": {},
   "outputs": [],
   "source": [
    "**add()--Adds an element to the set\n",
    "**clear()--Removes all the elements from the set\n",
    "**pop()--Removes an element from the set\n",
    "**remove()--Removes the specified element\n",
    "**union()--Return a set containing the union of sets\n",
    "**update()--Update the set with the union of this set and others\n",
    "**discard()--Remove the specified item\n",
    "**update()--Update the set with the union of this set and others"
   ]
  },
  {
   "cell_type": "markdown",
   "id": "b00b205e",
   "metadata": {},
   "source": [
    "# Accesing set elements"
   ]
  },
  {
   "cell_type": "code",
   "execution_count": null,
   "id": "5f714561",
   "metadata": {},
   "outputs": [],
   "source": [
    "fruit = {\"apple\", \"banana\", \"cherry\"}"
   ]
  },
  {
   "cell_type": "code",
   "execution_count": 50,
   "id": "e0c83e51",
   "metadata": {},
   "outputs": [
    {
     "name": "stdout",
     "output_type": "stream",
     "text": [
      "cherry\n",
      "banana\n",
      "apple\n"
     ]
    }
   ],
   "source": [
    "for x in fruit:\n",
    "    print(x)"
   ]
  },
  {
   "cell_type": "code",
   "execution_count": 51,
   "id": "6e5558f8",
   "metadata": {},
   "outputs": [
    {
     "name": "stdout",
     "output_type": "stream",
     "text": [
      "True\n"
     ]
    }
   ],
   "source": [
    "print(\"banana\" in fruit)"
   ]
  },
  {
   "cell_type": "markdown",
   "id": "4b6b368d",
   "metadata": {},
   "source": [
    "# Adding elements"
   ]
  },
  {
   "cell_type": "code",
   "execution_count": 52,
   "id": "dda04738",
   "metadata": {},
   "outputs": [],
   "source": [
    "fruit = {\"apple\", \"banana\", \"cherry\"}"
   ]
  },
  {
   "cell_type": "code",
   "execution_count": 53,
   "id": "779915d7",
   "metadata": {},
   "outputs": [],
   "source": [
    "fruit.add(\"orange\")"
   ]
  },
  {
   "cell_type": "code",
   "execution_count": 54,
   "id": "62822c71",
   "metadata": {},
   "outputs": [
    {
     "name": "stdout",
     "output_type": "stream",
     "text": [
      "{'cherry', 'orange', 'banana', 'apple'}\n"
     ]
    }
   ],
   "source": [
    "print(fruit)"
   ]
  },
  {
   "cell_type": "code",
   "execution_count": 59,
   "id": "b0078159",
   "metadata": {},
   "outputs": [
    {
     "name": "stdout",
     "output_type": "stream",
     "text": [
      "{'cherry', 'banana', 'apple', 'kiwi', 'orange'}\n"
     ]
    }
   ],
   "source": [
    "fruit = {\"apple\", \"banana\", \"cherry\"}\n",
    "fruits = [\"kiwi\", \"orange\"]\n",
    "\n",
    "fruit.update(fruits)\n",
    "\n",
    "print(fruit)"
   ]
  },
  {
   "cell_type": "code",
   "execution_count": 63,
   "id": "82101a05",
   "metadata": {},
   "outputs": [
    {
     "name": "stdout",
     "output_type": "stream",
     "text": [
      "{'cherry', 'banana', 'pineapple', 'apple', 'mango', 'papaya'}\n"
     ]
    }
   ],
   "source": [
    "fruit = {\"apple\", \"banana\", \"cherry\"}\n",
    "fruits = {\"pineapple\", \"mango\", \"papaya\"}\n",
    "\n",
    "fruit.update(fruits)\n",
    "\n",
    "print(fruit)"
   ]
  },
  {
   "cell_type": "markdown",
   "id": "f5354733",
   "metadata": {},
   "source": [
    "# Removing elements"
   ]
  },
  {
   "cell_type": "code",
   "execution_count": 56,
   "id": "0b2c5d39",
   "metadata": {},
   "outputs": [],
   "source": [
    "fruit = {\"apple\", \"banana\", \"cherry\"}"
   ]
  },
  {
   "cell_type": "code",
   "execution_count": 57,
   "id": "0bacae6c",
   "metadata": {},
   "outputs": [],
   "source": [
    "fruit.remove(\"cherry\")"
   ]
  },
  {
   "cell_type": "code",
   "execution_count": 58,
   "id": "42e62298",
   "metadata": {},
   "outputs": [
    {
     "name": "stdout",
     "output_type": "stream",
     "text": [
      "{'banana', 'apple'}\n"
     ]
    }
   ],
   "source": [
    "print(fruit)"
   ]
  },
  {
   "cell_type": "code",
   "execution_count": 61,
   "id": "de49dd31",
   "metadata": {},
   "outputs": [],
   "source": [
    "fruit.discard(\"apple\")"
   ]
  },
  {
   "cell_type": "code",
   "execution_count": 62,
   "id": "a656e927",
   "metadata": {},
   "outputs": [
    {
     "name": "stdout",
     "output_type": "stream",
     "text": [
      "{'cherry', 'banana', 'kiwi', 'orange'}\n"
     ]
    }
   ],
   "source": [
    "print(fruit)"
   ]
  },
  {
   "cell_type": "code",
   "execution_count": 64,
   "id": "8527c63e",
   "metadata": {},
   "outputs": [],
   "source": [
    "fruit.clear()"
   ]
  },
  {
   "cell_type": "code",
   "execution_count": 65,
   "id": "90c4e7b0",
   "metadata": {},
   "outputs": [
    {
     "name": "stdout",
     "output_type": "stream",
     "text": [
      "set()\n"
     ]
    }
   ],
   "source": [
    "print(fruit)"
   ]
  },
  {
   "cell_type": "code",
   "execution_count": 67,
   "id": "f2c3884e",
   "metadata": {},
   "outputs": [],
   "source": [
    "del fruit"
   ]
  },
  {
   "cell_type": "code",
   "execution_count": 68,
   "id": "e61ef9e2",
   "metadata": {},
   "outputs": [
    {
     "ename": "NameError",
     "evalue": "name 'fruit' is not defined",
     "output_type": "error",
     "traceback": [
      "\u001b[1;31m---------------------------------------------------------------------------\u001b[0m",
      "\u001b[1;31mNameError\u001b[0m                                 Traceback (most recent call last)",
      "\u001b[1;32m~\\AppData\\Local\\Temp/ipykernel_1860/4190353548.py\u001b[0m in \u001b[0;36m<module>\u001b[1;34m\u001b[0m\n\u001b[1;32m----> 1\u001b[1;33m \u001b[0mprint\u001b[0m\u001b[1;33m(\u001b[0m\u001b[0mfruit\u001b[0m\u001b[1;33m)\u001b[0m\u001b[1;33m\u001b[0m\u001b[1;33m\u001b[0m\u001b[0m\n\u001b[0m",
      "\u001b[1;31mNameError\u001b[0m: name 'fruit' is not defined"
     ]
    }
   ],
   "source": [
    "print(fruit)"
   ]
  }
 ],
 "metadata": {
  "kernelspec": {
   "display_name": "Python 3 (ipykernel)",
   "language": "python",
   "name": "python3"
  },
  "language_info": {
   "codemirror_mode": {
    "name": "ipython",
    "version": 3
   },
   "file_extension": ".py",
   "mimetype": "text/x-python",
   "name": "python",
   "nbconvert_exporter": "python",
   "pygments_lexer": "ipython3",
   "version": "3.9.7"
  }
 },
 "nbformat": 4,
 "nbformat_minor": 5
}
