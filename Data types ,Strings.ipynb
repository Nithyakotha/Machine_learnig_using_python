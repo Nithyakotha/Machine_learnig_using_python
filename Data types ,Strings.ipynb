{
 "cells": [
  {
   "cell_type": "markdown",
   "id": "1e01efc5",
   "metadata": {},
   "source": [
    "# Data types"
   ]
  },
  {
   "cell_type": "code",
   "execution_count": null,
   "id": "565e072c",
   "metadata": {},
   "outputs": [],
   "source": [
    "We have the following data types in python\n",
    "**int\n",
    "**float\n",
    "**bool\n",
    "**list\n",
    "**tuple\n",
    "**complex\n",
    "and the remaining are followed"
   ]
  },
  {
   "cell_type": "code",
   "execution_count": 1,
   "id": "3d89e2aa",
   "metadata": {},
   "outputs": [
    {
     "name": "stdout",
     "output_type": "stream",
     "text": [
      "2\n"
     ]
    }
   ],
   "source": [
    "a=2\n",
    "print(a)"
   ]
  },
  {
   "cell_type": "code",
   "execution_count": null,
   "id": "ec661ce0",
   "metadata": {},
   "outputs": [],
   "source": [
    "#by using type function we can find the type of data type"
   ]
  },
  {
   "cell_type": "code",
   "execution_count": 2,
   "id": "1eb2e700",
   "metadata": {},
   "outputs": [
    {
     "name": "stdout",
     "output_type": "stream",
     "text": [
      "<class 'int'>\n"
     ]
    }
   ],
   "source": [
    "print(type(a))"
   ]
  },
  {
   "cell_type": "code",
   "execution_count": 3,
   "id": "9cf21ee5",
   "metadata": {},
   "outputs": [
    {
     "name": "stdout",
     "output_type": "stream",
     "text": [
      "7.5\n",
      "<class 'float'>\n"
     ]
    }
   ],
   "source": [
    "b=7.5\n",
    "c=True\n",
    "print(b)\n",
    "print(type(b))"
   ]
  },
  {
   "cell_type": "code",
   "execution_count": 4,
   "id": "bd843da4",
   "metadata": {},
   "outputs": [
    {
     "name": "stdout",
     "output_type": "stream",
     "text": [
      "True\n",
      "<class 'bool'>\n"
     ]
    }
   ],
   "source": [
    "print(c)\n",
    "print(type(c))"
   ]
  },
  {
   "cell_type": "markdown",
   "id": "953811fe",
   "metadata": {},
   "source": [
    "# Type conversion in python"
   ]
  },
  {
   "cell_type": "code",
   "execution_count": 5,
   "id": "d037597b",
   "metadata": {},
   "outputs": [],
   "source": [
    "x=5\n",
    "y=10.5"
   ]
  },
  {
   "cell_type": "code",
   "execution_count": 13,
   "id": "15d87fe9",
   "metadata": {},
   "outputs": [
    {
     "name": "stdout",
     "output_type": "stream",
     "text": [
      "5.0\n",
      "(5+0j)\n"
     ]
    }
   ],
   "source": [
    "print(float(x))\n",
    "print(complex(x))"
   ]
  },
  {
   "cell_type": "code",
   "execution_count": 14,
   "id": "d704d48f",
   "metadata": {},
   "outputs": [
    {
     "name": "stdout",
     "output_type": "stream",
     "text": [
      "10\n",
      "(10.5+0j)\n"
     ]
    }
   ],
   "source": [
    "print(int(y))\n",
    "print(complex(y))"
   ]
  },
  {
   "cell_type": "markdown",
   "id": "2289825a",
   "metadata": {},
   "source": [
    "\n",
    "# Strings in python"
   ]
  },
  {
   "cell_type": "code",
   "execution_count": null,
   "id": "255e0fda",
   "metadata": {},
   "outputs": [],
   "source": [
    "#in python strings can be either represented in 'single' quotes or \"double quotes\""
   ]
  },
  {
   "cell_type": "code",
   "execution_count": 15,
   "id": "3621d678",
   "metadata": {},
   "outputs": [
    {
     "name": "stdout",
     "output_type": "stream",
     "text": [
      "Nithya\n"
     ]
    }
   ],
   "source": [
    "string=\"Nithya\"\n",
    "print(string)"
   ]
  },
  {
   "cell_type": "code",
   "execution_count": 16,
   "id": "b038c426",
   "metadata": {},
   "outputs": [
    {
     "name": "stdout",
     "output_type": "stream",
     "text": [
      "Kotha\n"
     ]
    }
   ],
   "source": [
    "String='Kotha'\n",
    "print(String)"
   ]
  },
  {
   "cell_type": "code",
   "execution_count": null,
   "id": "d26d89c1",
   "metadata": {},
   "outputs": [],
   "source": [
    "#strings can be either written in single lines or multiple lines\n",
    "#for writting multi line strings/Sentences we use \"\"\" ...\"\"\" to represent "
   ]
  },
  {
   "cell_type": "code",
   "execution_count": 18,
   "id": "fdc2a8b4",
   "metadata": {},
   "outputs": [
    {
     "name": "stdout",
     "output_type": "stream",
     "text": [
      "Nithya\n",
      "Hari sri\n",
      "Kotha\n"
     ]
    }
   ],
   "source": [
    "strings=\"\"\"Nithya\n",
    "Hari sri\n",
    "Kotha\"\"\"\n",
    "print(strings)"
   ]
  },
  {
   "cell_type": "code",
   "execution_count": null,
   "id": "7f2b000d",
   "metadata": {},
   "outputs": [],
   "source": [
    "#we can comple two strings with \"+\" operator"
   ]
  },
  {
   "cell_type": "code",
   "execution_count": 23,
   "id": "e9bf6455",
   "metadata": {},
   "outputs": [],
   "source": [
    "s=string+String"
   ]
  },
  {
   "cell_type": "code",
   "execution_count": 24,
   "id": "02906fe1",
   "metadata": {},
   "outputs": [
    {
     "name": "stdout",
     "output_type": "stream",
     "text": [
      "NithyaKotha\n"
     ]
    }
   ],
   "source": [
    "print(s)"
   ]
  },
  {
   "cell_type": "code",
   "execution_count": null,
   "id": "15ed2389",
   "metadata": {},
   "outputs": [],
   "source": [
    "#if we need any gap b/w the strings then"
   ]
  },
  {
   "cell_type": "code",
   "execution_count": 29,
   "id": "d0d0d5d6",
   "metadata": {},
   "outputs": [
    {
     "name": "stdout",
     "output_type": "stream",
     "text": [
      "Nithya Kotha\n"
     ]
    }
   ],
   "source": [
    "st=string+\" \"+String\n",
    "print(st)"
   ]
  },
  {
   "cell_type": "code",
   "execution_count": null,
   "id": "120c4829",
   "metadata": {},
   "outputs": [],
   "source": [
    "#indexing of a strings using array function"
   ]
  },
  {
   "cell_type": "code",
   "execution_count": 35,
   "id": "3fd975b2",
   "metadata": {},
   "outputs": [
    {
     "name": "stdout",
     "output_type": "stream",
     "text": [
      "k\n",
      "h\n"
     ]
    }
   ],
   "source": [
    "Index=\"jaya Lakshmi\"\n",
    "print(Index[7])\n",
    "print(Index[9])"
   ]
  },
  {
   "cell_type": "code",
   "execution_count": null,
   "id": "c0fd769d",
   "metadata": {},
   "outputs": [],
   "source": [
    "#Looping a string"
   ]
  },
  {
   "cell_type": "code",
   "execution_count": 36,
   "id": "0f7a310a",
   "metadata": {},
   "outputs": [
    {
     "name": "stdout",
     "output_type": "stream",
     "text": [
      "a\n",
      "p\n",
      "p\n",
      "l\n",
      "e\n"
     ]
    }
   ],
   "source": [
    "for x in \"apple\":\n",
    "    print(x)"
   ]
  },
  {
   "cell_type": "markdown",
   "id": "3bc2b8a7",
   "metadata": {},
   "source": [
    "# String present or not"
   ]
  },
  {
   "cell_type": "code",
   "execution_count": null,
   "id": "0dae7630",
   "metadata": {},
   "outputs": [],
   "source": [
    "#checking a string is present or not\n",
    "#for this we use in operator\n",
    "#The result what we get will be in boolean value---If the value is presentthen it will be true else false"
   ]
  },
  {
   "cell_type": "code",
   "execution_count": 40,
   "id": "3419fe49",
   "metadata": {},
   "outputs": [
    {
     "name": "stdout",
     "output_type": "stream",
     "text": [
      "True\n",
      "False\n",
      "False\n"
     ]
    }
   ],
   "source": [
    "Count=\"india is my country\"\n",
    "print(\"my\" in Count)\n",
    "print(\"My\" in Count)\n",
    "print(\"India\" in Count)"
   ]
  },
  {
   "cell_type": "markdown",
   "id": "19407fd7",
   "metadata": {},
   "source": [
    "# Length of a string"
   ]
  },
  {
   "cell_type": "code",
   "execution_count": null,
   "id": "87756efb",
   "metadata": {},
   "outputs": [],
   "source": [
    "#we use len() to find the length of a string."
   ]
  },
  {
   "cell_type": "code",
   "execution_count": 41,
   "id": "357ab43b",
   "metadata": {},
   "outputs": [
    {
     "name": "stdout",
     "output_type": "stream",
     "text": [
      "15\n"
     ]
    }
   ],
   "source": [
    "draft=\"I am an Indian.\"\n",
    "print(len(draft))"
   ]
  },
  {
   "cell_type": "markdown",
   "id": "b33f5c63",
   "metadata": {},
   "source": [
    "# String methods"
   ]
  },
  {
   "cell_type": "code",
   "execution_count": null,
   "id": "87477a4d",
   "metadata": {},
   "outputs": [],
   "source": [
    "We have many string methods \n",
    "**count()--Writes noof times a string contains a word\n",
    "**find()--Searches for a word in a string\n",
    "**captilize()--converts first letter into capital\n",
    "**upper()--converts a string into upper case\n",
    "** lower()--converts a string into lower case\n",
    "**center()--returns a center value\n",
    "**index()--used to tell the index of a string\n",
    "**join()--used to join the elements at the end of the string.\n",
    "** isupper()--return true if all characters in the string are upper case\n",
    "**islower()--return True if all characters in the string are lower case\n",
    "Still we have more string methods"
   ]
  },
  {
   "cell_type": "code",
   "execution_count": 51,
   "id": "f1123416",
   "metadata": {},
   "outputs": [
    {
     "name": "stdout",
     "output_type": "stream",
     "text": [
      "SHE IS HAVING MENTAL HEALTH\n"
     ]
    }
   ],
   "source": [
    "save=\"she is having mental health\"\n",
    "print(save.upper())"
   ]
  },
  {
   "cell_type": "code",
   "execution_count": 52,
   "id": "f325081f",
   "metadata": {},
   "outputs": [
    {
     "name": "stdout",
     "output_type": "stream",
     "text": [
      "She is having mental health\n"
     ]
    }
   ],
   "source": [
    "print(save.capitalize())"
   ]
  },
  {
   "cell_type": "code",
   "execution_count": 53,
   "id": "7194aa25",
   "metadata": {},
   "outputs": [
    {
     "name": "stdout",
     "output_type": "stream",
     "text": [
      "14\n"
     ]
    }
   ],
   "source": [
    "print(save.find(\"mental\"))"
   ]
  },
  {
   "cell_type": "code",
   "execution_count": 56,
   "id": "1f9aa1e5",
   "metadata": {},
   "outputs": [
    {
     "name": "stdout",
     "output_type": "stream",
     "text": [
      "4\n"
     ]
    }
   ],
   "source": [
    "print(save.index(\"is\"))"
   ]
  },
  {
   "cell_type": "code",
   "execution_count": 58,
   "id": "e80c2229",
   "metadata": {},
   "outputs": [
    {
     "name": "stdout",
     "output_type": "stream",
     "text": [
      "she is having mental health\n"
     ]
    }
   ],
   "source": [
    "print(save.center(15))"
   ]
  },
  {
   "cell_type": "code",
   "execution_count": 59,
   "id": "d9e5bb5e",
   "metadata": {},
   "outputs": [
    {
     "name": "stdout",
     "output_type": "stream",
     "text": [
      "she is having mental health\n"
     ]
    }
   ],
   "source": [
    "print(save.lower())"
   ]
  },
  {
   "cell_type": "code",
   "execution_count": 67,
   "id": "b65d242a",
   "metadata": {},
   "outputs": [
    {
     "name": "stdout",
     "output_type": "stream",
     "text": [
      "Johnandpeterandfriends\n"
     ]
    }
   ],
   "source": [
    "Time = (\"John\", \"peter\", \"friends\")\n",
    "\n",
    "x = \"and\".join(Time)\n",
    "\n",
    "print(x)"
   ]
  },
  {
   "cell_type": "code",
   "execution_count": 68,
   "id": "f78a4235",
   "metadata": {},
   "outputs": [
    {
     "name": "stdout",
     "output_type": "stream",
     "text": [
      "False\n"
     ]
    }
   ],
   "source": [
    "print(save.isupper())"
   ]
  },
  {
   "cell_type": "code",
   "execution_count": 69,
   "id": "a0776c54",
   "metadata": {},
   "outputs": [
    {
     "name": "stdout",
     "output_type": "stream",
     "text": [
      "True\n"
     ]
    }
   ],
   "source": [
    "print(save.islower())"
   ]
  },
  {
   "cell_type": "code",
   "execution_count": null,
   "id": "259be14f",
   "metadata": {},
   "outputs": [],
   "source": []
  }
 ],
 "metadata": {
  "kernelspec": {
   "display_name": "Python 3 (ipykernel)",
   "language": "python",
   "name": "python3"
  },
  "language_info": {
   "codemirror_mode": {
    "name": "ipython",
    "version": 3
   },
   "file_extension": ".py",
   "mimetype": "text/x-python",
   "name": "python",
   "nbconvert_exporter": "python",
   "pygments_lexer": "ipython3",
   "version": "3.9.7"
  }
 },
 "nbformat": 4,
 "nbformat_minor": 5
}
